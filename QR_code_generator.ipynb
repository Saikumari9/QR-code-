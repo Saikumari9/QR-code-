{
  "nbformat": 4,
  "nbformat_minor": 0,
  "metadata": {
    "colab": {
      "provenance": []
    },
    "kernelspec": {
      "name": "python3",
      "display_name": "Python 3"
    },
    "language_info": {
      "name": "python"
    }
  },
  "cells": [
    {
      "cell_type": "code",
      "source": [],
      "metadata": {
        "id": "XPF9kifyKCWw"
      },
      "execution_count": null,
      "outputs": []
    },
    {
      "cell_type": "markdown",
      "source": [
        "\n",
        "Creating a QR code generator involves using a library that can handle QR code generation. In Python, the qrcode library is commonly used for this purpose"
      ],
      "metadata": {
        "id": "laevS6vJFhpk"
      }
    },
    {
      "cell_type": "code",
      "source": [
        "!pip install qrcode[pil]\n",
        "\n",
        "import qrcode\n",
        "from PIL import Image\n",
        "from IPython.display import display\n",
        "\n",
        "def generate_qr_code(data, file_path):\n",
        "    qr = qrcode.QRCode(\n",
        "        version=1,\n",
        "        error_correction=qrcode.constants.ERROR_CORRECT_L,\n",
        "        box_size=5,\n",
        "        border=2,\n",
        "    )\n",
        "\n",
        "    qr.add_data(data)\n",
        "    qr.make(fit=True)\n",
        "\n",
        "    img = qr.make_image(fill_color=\"black\", back_color=\"white\")\n",
        "\n",
        "    # Save the image to a file (optional)\n",
        "    img.save(file_path)\n",
        "\n",
        "    # Display the image\n",
        "    display(img)\n",
        "\n",
        "if __name__ == \"__main__\":\n",
        "  #change url what u want as QR code\n",
        "    data = \"https://www.example.com\"\n",
        "    file_path = \"/content/example_qr_code.png\"\n",
        "\n",
        "    generate_qr_code(data, file_path)\n",
        "    print(f\"QR code generated and saved to {file_path}\")\n",
        "\n",
        "\n",
        "\n",
        "\n",
        "\n",
        "\n"
      ],
      "metadata": {
        "colab": {
          "base_uri": "https://localhost:8080/",
          "height": 269
        },
        "id": "QfL5RgKbLEF4",
        "outputId": "33b82a45-d0de-43fd-a3b2-f877891e3006"
      },
      "execution_count": null,
      "outputs": [
        {
          "output_type": "stream",
          "name": "stdout",
          "text": [
            "Requirement already satisfied: qrcode[pil] in /usr/local/lib/python3.10/dist-packages (7.4.2)\n",
            "Requirement already satisfied: typing-extensions in /usr/local/lib/python3.10/dist-packages (from qrcode[pil]) (4.5.0)\n",
            "Requirement already satisfied: pypng in /usr/local/lib/python3.10/dist-packages (from qrcode[pil]) (0.20220715.0)\n",
            "Requirement already satisfied: pillow>=9.1.0 in /usr/local/lib/python3.10/dist-packages (from qrcode[pil]) (9.4.0)\n"
          ]
        },
        {
          "output_type": "display_data",
          "data": {
            "text/plain": [
              "<qrcode.image.pil.PilImage at 0x7acc6c2aaa10>"
            ],
            "image/png": "[encoded data removed]"
          },
          "metadata": {}
        },
        {
          "output_type": "stream",
          "name": "stdout",
          "text": [
            "QR code generated and saved to /content/example_qr_code.png\n"
          ]
        }
      ]
    },
    {
      "cell_type": "code",
      "source": [],
      "metadata": {
        "id": "nyVrIMzi7e8U"
      },
      "execution_count": null,
      "outputs": []
    }
  ]
}